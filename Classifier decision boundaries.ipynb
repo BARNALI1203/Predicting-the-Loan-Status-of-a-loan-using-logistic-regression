{
 "cells": [
  {
   "cell_type": "code",
   "execution_count": null,
   "metadata": {},
   "outputs": [],
   "source": [
    "#Visulizing forms of decision boundaries of various classifers"
   ]
  },
  {
   "cell_type": "code",
   "execution_count": null,
   "metadata": {},
   "outputs": [],
   "source": [
    "from sklearn.datasets import make_classification \n",
    "X, y = make_classification(n_samples=200, n_features=2, n_informative=2, n_redundant=0, n_classes=2, random_state=1)"
   ]
  },
  {
   "cell_type": "code",
   "execution_count": null,
   "metadata": {},
   "outputs": [],
   "source": [
    "from sklearn.linear_model import LogisticRegression\n",
    "from sklearn.tree import DecisionTreeClassifier\n",
    "from sklearn.naive_bayes import GaussianNB \n",
    "#from sklearn.neural_network import MLPClassifier\n",
    "# Initializing Classifiers\n",
    "clf1 = LogisticRegression()\n",
    "clf2 = DecisionTreeClassifier()\n",
    "clf3 = GaussianNB()\n",
    "\n",
    "import matplotlib.pyplot as plt\n",
    "from mlxtend.plotting import plot_decision_regions\n",
    "import matplotlib.gridspec as gridspec\n",
    "%matplotlib inline\n",
    "gs = gridspec.GridSpec(3, 2)\n",
    "fig = plt.figure(figsize=(14,10))\n",
    "labels = ['Logistic Regression', 'Decision Tree', 'Naive Bayes']\n",
    "for clf, lab, grd in zip([clf1, clf2, clf3],labels,[(0,0), (0,1), (1,0)]):\n",
    "       clf.fit(X, y)\n",
    "       ax = plt.subplot(gs[grd[0], grd[1]])\n",
    "       fig = plot_decision_regions(X=X, y=y, clf=clf, legend=2)\n",
    "       plt.title(lab)\n",
    "plt.show()\n"
   ]
  },
  {
   "cell_type": "code",
   "execution_count": null,
   "metadata": {},
   "outputs": [],
   "source": []
  }
 ],
 "metadata": {
  "kernelspec": {
   "display_name": "Python 3 (ipykernel)",
   "language": "python",
   "name": "python3"
  },
  "language_info": {
   "codemirror_mode": {
    "name": "ipython",
    "version": 3
   },
   "file_extension": ".py",
   "mimetype": "text/x-python",
   "name": "python",
   "nbconvert_exporter": "python",
   "pygments_lexer": "ipython3",
   "version": "3.9.7"
  }
 },
 "nbformat": 4,
 "nbformat_minor": 1
}
