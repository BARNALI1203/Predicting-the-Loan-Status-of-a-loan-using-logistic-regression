{
 "cells": [
  {
   "cell_type": "code",
   "execution_count": null,
   "id": "8308d60f",
   "metadata": {},
   "outputs": [],
   "source": [
    "\n",
    "# German credit data and Decison tree model\n",
    "\n",
    "import matplotlib.pyplot as plt\n",
    "import seaborn as sn\n",
    "%matplotlib inline\n",
    "from sklearn import metrics\n",
    "\n",
    "import warnings\n",
    "warnings.filterwarnings('ignore')\n",
    "import pandas as pd\n",
    "import numpy as np\n",
    "credit_df = pd.read_csv( \"E:/SLDM_2022/Session/German Credit Data.csv\" )\n",
    "credit_df.info()"
   ]
  },
  {
   "cell_type": "code",
   "execution_count": null,
   "id": "616661b8",
   "metadata": {},
   "outputs": [],
   "source": [
    "credit_df.iloc[0:5,1:7]"
   ]
  },
  {
   "cell_type": "code",
   "execution_count": null,
   "id": "7807c808",
   "metadata": {},
   "outputs": [],
   "source": [
    "credit_df.iloc[0:5,7:]"
   ]
  },
  {
   "cell_type": "code",
   "execution_count": null,
   "id": "f85c9e75",
   "metadata": {},
   "outputs": [],
   "source": [
    "credit_df.status.value_counts()"
   ]
  },
  {
   "cell_type": "code",
   "execution_count": null,
   "id": "fde04a41",
   "metadata": {},
   "outputs": [],
   "source": [
    "X_features = list( credit_df.columns )\n",
    "X_features.remove( 'status' )\n",
    "X_features"
   ]
  },
  {
   "cell_type": "code",
   "execution_count": null,
   "id": "5711af8a",
   "metadata": {},
   "outputs": [],
   "source": [
    "encoded_credit_df = pd.get_dummies( credit_df[X_features],\n",
    "drop_first = True )"
   ]
  },
  {
   "cell_type": "code",
   "execution_count": null,
   "id": "7b16d0dc",
   "metadata": {},
   "outputs": [],
   "source": [
    "list(encoded_credit_df.columns)"
   ]
  },
  {
   "cell_type": "code",
   "execution_count": null,
   "id": "feac9205",
   "metadata": {},
   "outputs": [],
   "source": [
    "encoded_credit_df[['checkin_acc_A12','checkin_acc_A13','checkin_acc_A14']].head(5)"
   ]
  },
  {
   "cell_type": "code",
   "execution_count": null,
   "id": "30ac6969",
   "metadata": {},
   "outputs": [],
   "source": [
    "import statsmodels.api as sm\n",
    "Y = credit_df.status\n",
    "X = sm.add_constant( encoded_credit_df )"
   ]
  },
  {
   "cell_type": "code",
   "execution_count": null,
   "id": "fc2f5d95",
   "metadata": {},
   "outputs": [],
   "source": [
    "from sklearn.model_selection import train_test_split\n",
    "X_train, X_test, y_train, y_test = train_test_split(X,\n",
    "Y,\n",
    "test_size = 0.3,\n",
    "random_state = 100)"
   ]
  },
  {
   "cell_type": "code",
   "execution_count": null,
   "id": "a896d274",
   "metadata": {},
   "outputs": [],
   "source": [
    "import statsmodels.api as sm\n",
    "logit = sm.Logit(y_train, X_train)\n",
    "logit_model = logit.fit()"
   ]
  },
  {
   "cell_type": "code",
   "execution_count": null,
   "id": "46b66c83",
   "metadata": {},
   "outputs": [],
   "source": [
    "logit_model.summary2()"
   ]
  },
  {
   "cell_type": "code",
   "execution_count": null,
   "id": "cf90406e",
   "metadata": {},
   "outputs": [],
   "source": [
    "y_pred_df = pd.DataFrame( { \"actual\": y_test,\"predicted_prob\": logit_model.predict(\n",
    "sm.add_constant( X_test ) ) } )"
   ]
  },
  {
   "cell_type": "code",
   "execution_count": null,
   "id": "13048db2",
   "metadata": {},
   "outputs": [],
   "source": [
    "y_pred_df.sample(10, random_state = 100)"
   ]
  },
  {
   "cell_type": "code",
   "execution_count": null,
   "id": "ca443140",
   "metadata": {},
   "outputs": [],
   "source": [
    "\n",
    "y_pred_df['predicted'] = y_pred_df.predicted_prob.map(lambda x: 1 if x > 0.5 else 0)\n"
   ]
  },
  {
   "cell_type": "code",
   "execution_count": null,
   "id": "7cda6886",
   "metadata": {},
   "outputs": [],
   "source": [
    "print( metrics.classification_report( y_pred_df.actual,\n",
    "y_pred_df.predicted ) )"
   ]
  },
  {
   "cell_type": "code",
   "execution_count": null,
   "id": "e4d30e5b",
   "metadata": {},
   "outputs": [],
   "source": [
    "Y = credit_df.status\n",
    "X = encoded_credit_df\n",
    "from sklearn.model_selection import train_test_split\n",
    "X_train, X_test, y_train, y_test = train_test_split( X, Y,test_size = 0.3,\n",
    "random_state = 100)"
   ]
  },
  {
   "cell_type": "code",
   "execution_count": null,
   "id": "cff256dd",
   "metadata": {},
   "outputs": [],
   "source": [
    "from sklearn.tree import DecisionTreeClassifier\n",
    "clf_tree = DecisionTreeClassifier(criterion = 'gini',max_depth = 3 )"
   ]
  },
  {
   "cell_type": "code",
   "execution_count": null,
   "id": "b1258053",
   "metadata": {},
   "outputs": [],
   "source": [
    "clf_tree.fit( X_train, y_train )"
   ]
  },
  {
   "cell_type": "code",
   "execution_count": null,
   "id": "8b05e550",
   "metadata": {},
   "outputs": [],
   "source": [
    "from sklearn import metrics\n",
    "tree_predict = clf_tree.predict( X_test )\n",
    "metrics.roc_auc_score( y_test, tree_predict )\n",
    "\n",
    "print(\"Confusion Matrix Tree : \\n\", metrics.confusion_matrix(y_test, tree_predict),\"\\n\")\n",
    "print( metrics.classification_report( y_test,tree_predict ) )"
   ]
  },
  {
   "cell_type": "code",
   "execution_count": null,
   "id": "e78d81d7",
   "metadata": {},
   "outputs": [],
   "source": [
    "from sklearn import tree\n",
    "import matplotlib.pyplot as plt\n",
    "tree.plot_tree(clf_tree)\n"
   ]
  },
  {
   "cell_type": "code",
   "execution_count": null,
   "id": "cbefc292",
   "metadata": {},
   "outputs": [],
   "source": [
    "plt.figure(figsize=(12,12))\n",
    "tree.plot_tree(clf_tree, fontsize=10)\n",
    "plt.show()\n",
    "list(encoded_credit_df.columns)"
   ]
  },
  {
   "cell_type": "code",
   "execution_count": null,
   "id": "f63f4a3a",
   "metadata": {},
   "outputs": [],
   "source": []
  }
 ],
 "metadata": {
  "kernelspec": {
   "display_name": "Python 3 (ipykernel)",
   "language": "python",
   "name": "python3"
  },
  "language_info": {
   "codemirror_mode": {
    "name": "ipython",
    "version": 3
   },
   "file_extension": ".py",
   "mimetype": "text/x-python",
   "name": "python",
   "nbconvert_exporter": "python",
   "pygments_lexer": "ipython3",
   "version": "3.9.7"
  }
 },
 "nbformat": 4,
 "nbformat_minor": 5
}
